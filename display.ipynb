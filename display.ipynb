{
 "cells": [
  {
   "cell_type": "code",
   "execution_count": 2,
   "metadata": {
    "hideCode": true,
    "hideOutput": true,
    "hidePrompt": false
   },
   "outputs": [],
   "source": [
    "import sys\n",
    "import time\n",
    "from IPython.display import clear_output\n",
    "\n",
    "def watch(id_: str, i: int = 1, c: int = -1):\n",
    "    gvr, nsn = id_.split()\n",
    "    for _ in range(c if c > 0 else sys.maxsize):\n",
    "        clear_output(wait=True)\n",
    "        !kubectl get {gvr} {nsn} -oyaml | kubectl neat\n",
    "        time.sleep(i)"
   ]
  },
  {
   "cell_type": "code",
   "execution_count": null,
   "metadata": {
    "hideCode": false,
    "hidePrompt": false
   },
   "outputs": [],
   "source": [
    "watch(\"room room-test\")"
   ]
  },
  {
   "cell_type": "code",
   "execution_count": null,
   "metadata": {},
   "outputs": [
    {
     "name": "stdout",
     "output_type": "stream",
     "text": [
      "apiVersion: mock.digi.dev/v1\r\n",
      "kind: MotionSensor\r\n",
      "metadata:\r\n",
      "  name: motion-test\r\n",
      "  namespace: default\r\n",
      "spec:\r\n",
      "  control:\r\n",
      "    sensitivity:\r\n",
      "      intent: 10\r\n",
      "      status: 10\r\n",
      "  obs:\r\n",
      "    battery_level: 100%\r\n",
      "    last_triggered_time: 1.6187740847487833e+09\r\n"
     ]
    }
   ],
   "source": [
    "watch(\"motionsensor motion-test\")"
   ]
  },
  {
   "cell_type": "code",
   "execution_count": null,
   "metadata": {},
   "outputs": [],
   "source": []
  }
 ],
 "metadata": {
  "hide_code_all_hidden": false,
  "kernelspec": {
   "display_name": "Python 3",
   "language": "python",
   "name": "python3"
  },
  "language_info": {
   "codemirror_mode": {
    "name": "ipython",
    "version": 3
   },
   "file_extension": ".py",
   "mimetype": "text/x-python",
   "name": "python",
   "nbconvert_exporter": "python",
   "pygments_lexer": "ipython3",
   "version": "3.8.2"
  }
 },
 "nbformat": 4,
 "nbformat_minor": 4
}

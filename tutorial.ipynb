{
 "cells": [
  {
   "cell_type": "markdown",
   "metadata": {
    "hideCode": false,
    "hidePrompt": false
   },
   "source": [
    "# Quickstart\n",
    "\n",
    "The following data types are allowed: number, integer, string, array, object (corresponding to OpenAPIV2).\n",
    "\n",
    "For example, to define a power plug scheme:\n",
    "\n",
    "```yaml\n",
    "group: digi.dev\n",
    "version: v1\n",
    "kind: Plug\n",
    "control:\n",
    "  power: string\n",
    "``` \n",
    "\n",
    "Converted to kubernetes's resource:\n",
    "\n",
    "```yaml\n",
    "apiVersion: digi.dev/v1\n",
    "kind: Plug        \n",
    "metadata:\n",
    "  name: plug-test\n",
    "spec:\n",
    "  control:        \n",
    "    power:\n",
    "      intent: \"off\"\n",
    "```"
   ]
  },
  {
   "cell_type": "markdown",
   "metadata": {},
   "source": [
    "# Simple Lamp digivice"
   ]
  },
  {
   "cell_type": "code",
   "execution_count": 1,
   "metadata": {},
   "outputs": [
    {
     "name": "stdout",
     "output_type": "stream",
     "text": [
      "0:00:00\n"
     ]
    }
   ],
   "source": [
    "from tutorial import (\n",
    "    create,\n",
    "    model_file,\n",
    "    handler_file,\n",
    ")\n",
    "%elapsed_time"
   ]
  },
  {
   "cell_type": "markdown",
   "metadata": {},
   "source": [
    "## Define a schema"
   ]
  },
  {
   "cell_type": "code",
   "execution_count": 2,
   "metadata": {},
   "outputs": [
    {
     "name": "stdout",
     "output_type": "stream",
     "text": [
      "0:00:03\n"
     ]
    }
   ],
   "source": [
    "%%elapsed_time\n",
    "\n",
    "schema = \"\"\"\n",
    "group: digi.dev\n",
    "version: v1\n",
    "kind: Lamp\n",
    "control:\n",
    "  power: string\n",
    "  brightness: number\n",
    "\"\"\"\n",
    "\n",
    "create(schema)"
   ]
  },
  {
   "cell_type": "markdown",
   "metadata": {},
   "source": [
    "## Specify a model"
   ]
  },
  {
   "cell_type": "code",
   "execution_count": 3,
   "metadata": {},
   "outputs": [],
   "source": [
    "m = model_file(\"lamp\")"
   ]
  },
  {
   "cell_type": "code",
   "execution_count": 4,
   "metadata": {},
   "outputs": [
    {
     "name": "stdout",
     "output_type": "stream",
     "text": [
      "Overwriting /Users/silv/go/src/digi.dev/tutorial/workdir/lamp/deploy/cr.yaml\n",
      "0:00:06\n"
     ]
    }
   ],
   "source": [
    "%%elapsed_time\n",
    "%%writefile $m\n",
    "\n",
    "apiVersion: digi.dev/v1\n",
    "kind: Lamp         \n",
    "metadata:\n",
    "  name: lamp-test\n",
    "spec:\n",
    "  control:        \n",
    "    power:\n",
    "      intent: \"on\"\n",
    "    brightness:\n",
    "      intent: 0.8"
   ]
  },
  {
   "cell_type": "markdown",
   "metadata": {},
   "source": [
    "## Implement a driver"
   ]
  },
  {
   "cell_type": "code",
   "execution_count": 5,
   "metadata": {},
   "outputs": [],
   "source": [
    "f = handler_file(\"lamp\")"
   ]
  },
  {
   "cell_type": "code",
   "execution_count": 6,
   "metadata": {},
   "outputs": [
    {
     "name": "stdout",
     "output_type": "stream",
     "text": [
      "Overwriting /Users/silv/go/src/digi.dev/tutorial/workdir/lamp/driver/handler.py\n",
      "0:00:08\n"
     ]
    }
   ],
   "source": [
    "%%elapsed_time\n",
    "%%writefile $f\n",
    "\n",
    "from digi import on\n",
    "\n",
    "@on.control(\"power\")\n",
    "def h(sv):\n",
    "    sv[\"status\"] = sv[\"intent\"]\n",
    "\n",
    "@on.control(\"brightness\")\n",
    "def h(sv):\n",
    "    sv[\"status\"] = sv[\"intent\"]"
   ]
  },
  {
   "cell_type": "markdown",
   "metadata": {},
   "source": [
    "## Build"
   ]
  },
  {
   "cell_type": "code",
   "execution_count": 7,
   "metadata": {},
   "outputs": [
    {
     "name": "stdout",
     "output_type": "stream",
     "text": [
      "IMAGE ID\r\n",
      "lamp\r\n",
      "motionsensor\r\n",
      "room\r\n"
     ]
    }
   ],
   "source": [
    "!dq build lamp -q  # quiet\n",
    "!dq image"
   ]
  },
  {
   "cell_type": "markdown",
   "metadata": {},
   "source": [
    "## Run"
   ]
  },
  {
   "cell_type": "code",
   "execution_count": 8,
   "metadata": {},
   "outputs": [
    {
     "name": "stdout",
     "output_type": "stream",
     "text": [
      "lamp-test\r\n"
     ]
    }
   ],
   "source": [
    "!dq stop lamp lamp-test -q\n",
    "!dq run lamp lamp-test"
   ]
  },
  {
   "cell_type": "markdown",
   "metadata": {},
   "source": [
    "## Read status"
   ]
  },
  {
   "cell_type": "code",
   "execution_count": 9,
   "metadata": {},
   "outputs": [
    {
     "name": "stdout",
     "output_type": "stream",
     "text": [
      "apiVersion: digi.dev/v1\r\n",
      "kind: Lamp\r\n",
      "metadata:\r\n",
      "  name: lamp-test\r\n",
      "  namespace: default\r\n",
      "spec:\r\n",
      "  control:\r\n",
      "    brightness:\r\n",
      "      intent: 1\r\n",
      "      status: 1\r\n",
      "    power:\r\n",
      "      intent: \"on\"\r\n",
      "      status: \"on\"\r\n"
     ]
    }
   ],
   "source": [
    "!kubectl get lamp.digi.dev lamp-test -oyaml | kubectl neat"
   ]
  },
  {
   "cell_type": "markdown",
   "metadata": {},
   "source": [
    "## Update intent"
   ]
  },
  {
   "cell_type": "code",
   "execution_count": 10,
   "metadata": {},
   "outputs": [
    {
     "name": "stdout",
     "output_type": "stream",
     "text": [
      "Overwriting /Users/silv/go/src/digi.dev/tutorial/workdir/lamp/deploy/cr.yaml\n",
      "0:00:22\n"
     ]
    }
   ],
   "source": [
    "%%elapsed_time\n",
    "%%writefile $m\n",
    "\n",
    "apiVersion: digi.dev/v1\n",
    "kind: Lamp         \n",
    "metadata:\n",
    "  name: lamp-test\n",
    "spec:\n",
    "  control:        \n",
    "    power:\n",
    "      intent: \"off\"\n",
    "    brightness:\n",
    "      intent: 0.7"
   ]
  },
  {
   "cell_type": "code",
   "execution_count": 11,
   "metadata": {},
   "outputs": [
    {
     "name": "stdout",
     "output_type": "stream",
     "text": [
      "lamp.digi.dev/lamp-test configured\n",
      "apiVersion: digi.dev/v1\n",
      "kind: Lamp\n",
      "metadata:\n",
      "  name: lamp-test\n",
      "  namespace: default\n",
      "spec:\n",
      "  control:\n",
      "    brightness:\n",
      "      intent: 0.7\n",
      "      status: 0.7\n",
      "    power:\n",
      "      intent: \"off\"\n",
      "      status: \"off\"\n"
     ]
    }
   ],
   "source": [
    "!kubectl apply -f $m 2> /dev/null  \n",
    "!kubectl get lamp lamp-test -oyaml | kubectl neat"
   ]
  },
  {
   "cell_type": "code",
   "execution_count": 12,
   "metadata": {},
   "outputs": [
    {
     "name": "stdout",
     "output_type": "stream",
     "text": [
      "lamp.digi.dev/lamp-test patched (no change)\r\n"
     ]
    }
   ],
   "source": [
    "# Alternatively, one can patch using a string (the previous method is preferred!), e.g.,\n",
    "!kubectl patch lamp lamp-test -p '{\"spec\":{\"control\":{\"power\":{\"intent\":\"off\"}}}}' --type=merge"
   ]
  },
  {
   "cell_type": "markdown",
   "metadata": {},
   "source": [
    "# HL abstraction: Room digivice"
   ]
  },
  {
   "cell_type": "markdown",
   "metadata": {},
   "source": [
    "## Implementation"
   ]
  },
  {
   "cell_type": "code",
   "execution_count": 13,
   "metadata": {},
   "outputs": [
    {
     "name": "stdout",
     "output_type": "stream",
     "text": [
      "0:00:34\n"
     ]
    }
   ],
   "source": [
    "%%elapsed_time\n",
    "\n",
    "# define schema\n",
    "schema = \"\"\"\n",
    "group: digi.dev\n",
    "version: v1\n",
    "kind: Room\n",
    "control:\n",
    "  brightness: number\n",
    "mount:     # mount reference\n",
    "  digi.dev/v1/lamps: object\n",
    "\"\"\"\n",
    "\n",
    "create(schema)"
   ]
  },
  {
   "cell_type": "code",
   "execution_count": 14,
   "metadata": {},
   "outputs": [],
   "source": [
    "# specify model\n",
    "m = model_file(\"room\")"
   ]
  },
  {
   "cell_type": "code",
   "execution_count": 15,
   "metadata": {},
   "outputs": [
    {
     "name": "stdout",
     "output_type": "stream",
     "text": [
      "Overwriting /Users/silv/go/src/digi.dev/tutorial/workdir/room/deploy/cr.yaml\n",
      "0:00:38\n"
     ]
    }
   ],
   "source": [
    "%%elapsed_time\n",
    "%%writefile $m\n",
    "\n",
    "apiVersion: digi.dev/v1\n",
    "kind: Room        \n",
    "metadata:\n",
    "  name: room-test\n",
    "spec:\n",
    "  control:        \n",
    "    brightness:\n",
    "      intent: 0.8"
   ]
  },
  {
   "cell_type": "code",
   "execution_count": 16,
   "metadata": {},
   "outputs": [],
   "source": [
    "# implement driver\n",
    "f = handler_file(\"room\")"
   ]
  },
  {
   "cell_type": "code",
   "execution_count": 17,
   "metadata": {},
   "outputs": [
    {
     "name": "stdout",
     "output_type": "stream",
     "text": [
      "Overwriting /Users/silv/go/src/digi.dev/tutorial/workdir/room/driver/handler.py\n",
      "0:00:41\n"
     ]
    }
   ],
   "source": [
    "%%elapsed_time\n",
    "%%writefile $f\n",
    "\n",
    "from digi import on, logger\n",
    "from digi.view import TypeView, DotView\n",
    "\n",
    "@on.mount\n",
    "@on.control\n",
    "def h(proc_view):    \n",
    "    with TypeView(proc_view) as tv, DotView(tv) as dv:  \n",
    "        logger.info(dv)\n",
    "        room_brightness = dv.root.control.brightness\n",
    "        room_brightness.status = 0\n",
    "        \n",
    "        if \"lamps\" not in dv:\n",
    "            return\n",
    "        \n",
    "        # handle status\n",
    "        active_lamps = [l for _, l in dv.lamps.items() \n",
    "                        if l.control.power.status == \"on\"]\n",
    "        for l in active_lamps:\n",
    "            room_brightness.status += l.control.brightness.status\n",
    "            \n",
    "        # handle intent\n",
    "        for l in dv.lamps.items:\n",
    "            room_brightness.status += l.control.brightness.status\n",
    "            l.control.brightness.intent = room_brightness.intent / len(active_lamps)"
   ]
  },
  {
   "cell_type": "code",
   "execution_count": 18,
   "metadata": {},
   "outputs": [
    {
     "name": "stdout",
     "output_type": "stream",
     "text": [
      "room-test\n",
      "room-test\n"
     ]
    }
   ],
   "source": [
    "# build and run\n",
    "!dq build room -q\n",
    "!dq stop room room-test || true\n",
    "!dq run room room-test"
   ]
  },
  {
   "cell_type": "markdown",
   "metadata": {},
   "source": [
    "## Debug"
   ]
  },
  {
   "cell_type": "code",
   "execution_count": 19,
   "metadata": {},
   "outputs": [
    {
     "name": "stdout",
     "output_type": "stream",
     "text": [
      "apiVersion: digi.dev/v1\r\n",
      "kind: Room\r\n",
      "metadata:\r\n",
      "  name: room-test\r\n",
      "  namespace: default\r\n",
      "spec:\r\n",
      "  control:\r\n",
      "    brightness:\r\n",
      "      intent: 0.8\r\n"
     ]
    }
   ],
   "source": [
    "!kubectl get rooms room-test -oyaml | kubectl neat"
   ]
  },
  {
   "cell_type": "code",
   "execution_count": 20,
   "metadata": {},
   "outputs": [
    {
     "name": "stdout",
     "output_type": "stream",
     "text": [
      "[2021-04-18 19:25:49,128] digi                 [INFO    ] Started an operator\r\n",
      "[2021-04-18 19:25:49,129] digi.mount           [INFO    ] Started the mounter\r\n",
      "[2021-04-18 19:25:49,129] digi.mount           [INFO    ] Started the mounter\r\n",
      "[2021-04-18 19:25:49,132] digi                 [INFO    ] Started an operator\r\n",
      "[2021-04-18 19:25:49,136] kopf.reactor.running [WARNING ] OS signals are ignored: running not in the main thread.\r\n",
      "[2021-04-18 19:25:49,565] digi                 [INFO    ] {'root': {'control': {'brightness': {'intent': 0.8}}}}\r\n",
      "[2021-04-18 19:25:49,565] digi                 [INFO    ] {'root': {'control': {'brightness': {'intent': 0.8}}}}\r\n",
      "[2021-04-18 19:25:49,566] digi                 [INFO    ] {'root': {'control': {'brightness': {'intent': 0.8, 'status': 0}}}}\r\n",
      "[2021-04-18 19:25:49,566] digi                 [INFO    ] {'root': {'control': {'brightness': {'intent': 0.8, 'status': 0}}}}\r\n",
      "[2021-04-18 19:25:49,598] digi.main            [INFO    ] Done reconciliation\r\n",
      "[2021-04-18 19:25:49,598] digi.main            [INFO    ] Done reconciliation\r\n",
      "[2021-04-18 19:25:49,701] digi.main            [INFO    ] Skipping gen 2\r\n",
      "[2021-04-18 19:25:49,701] digi.main            [INFO    ] Skipping gen 2\r\n"
     ]
    }
   ],
   "source": [
    "!dq log room-test"
   ]
  },
  {
   "cell_type": "markdown",
   "metadata": {},
   "source": [
    "## Mount lamps"
   ]
  },
  {
   "cell_type": "code",
   "execution_count": 21,
   "metadata": {},
   "outputs": [],
   "source": [
    "!dq mount lamp-test room-test"
   ]
  },
  {
   "cell_type": "code",
   "execution_count": 22,
   "metadata": {},
   "outputs": [
    {
     "name": "stdout",
     "output_type": "stream",
     "text": [
      "apiVersion: digi.dev/v1\r\n",
      "kind: Room\r\n",
      "metadata:\r\n",
      "  name: room-test\r\n",
      "  namespace: default\r\n",
      "spec:\r\n",
      "  control:\r\n",
      "    brightness:\r\n",
      "      intent: 0.8\r\n",
      "      status: 0\r\n",
      "  mount:\r\n",
      "    digi.dev/v1/lamps:\r\n",
      "      default/lamp-test:\r\n",
      "        mode: hide\r\n",
      "        spec:\r\n",
      "          control:\r\n",
      "            brightness:\r\n",
      "              status: 0.7\r\n",
      "            power:\r\n",
      "              status: \"off\"\r\n",
      "        status: active\r\n"
     ]
    }
   ],
   "source": [
    "!kubectl get rooms room-test -oyaml | kubectl neat"
   ]
  },
  {
   "cell_type": "markdown",
   "metadata": {},
   "source": [
    "Or [watch the changes](http://localhost:8881/notebooks/display.ipynb)."
   ]
  },
  {
   "cell_type": "markdown",
   "metadata": {},
   "source": [
    "## Playing with room brightness"
   ]
  },
  {
   "cell_type": "code",
   "execution_count": 23,
   "metadata": {},
   "outputs": [
    {
     "name": "stdout",
     "output_type": "stream",
     "text": [
      "room.digi.dev/room-test patched\r\n"
     ]
    }
   ],
   "source": [
    "!kubectl patch room room-test -p '{\"spec\":{\"control\":{\"brightness\":{\"intent\":1}}}}' --type=merge"
   ]
  },
  {
   "cell_type": "code",
   "execution_count": 24,
   "metadata": {},
   "outputs": [
    {
     "name": "stdout",
     "output_type": "stream",
     "text": [
      "apiVersion: digi.dev/v1\r\n",
      "kind: Room\r\n",
      "metadata:\r\n",
      "  name: room-test\r\n",
      "  namespace: default\r\n",
      "spec:\r\n",
      "  control:\r\n",
      "    brightness:\r\n",
      "      intent: 1\r\n",
      "      status: 0\r\n",
      "  mount:\r\n",
      "    digi.dev/v1/lamps:\r\n",
      "      default/lamp-test:\r\n",
      "        mode: hide\r\n",
      "        spec:\r\n",
      "          control:\r\n",
      "            brightness:\r\n",
      "              status: 0.7\r\n",
      "            power:\r\n",
      "              status: \"off\"\r\n",
      "        status: active\r\n"
     ]
    }
   ],
   "source": [
    "!kubectl get rooms room-test -oyaml | kubectl neat"
   ]
  },
  {
   "cell_type": "markdown",
   "metadata": {},
   "source": [
    "## Connect to physical lamps"
   ]
  },
  {
   "cell_type": "markdown",
   "metadata": {},
   "source": [
    "..."
   ]
  },
  {
   "cell_type": "markdown",
   "metadata": {},
   "source": [
    "# Activate the Room with motion"
   ]
  },
  {
   "cell_type": "markdown",
   "metadata": {},
   "source": [
    "## Pull the MotionSensor"
   ]
  },
  {
   "cell_type": "code",
   "execution_count": 25,
   "metadata": {},
   "outputs": [
    {
     "name": "stdout",
     "output_type": "stream",
     "text": [
      "motionsensor\r\n"
     ]
    }
   ],
   "source": [
    "!dq pull motionsensor"
   ]
  },
  {
   "cell_type": "code",
   "execution_count": 26,
   "metadata": {},
   "outputs": [
    {
     "name": "stdout",
     "output_type": "stream",
     "text": [
      "motion-test\n",
      "motion-test\n"
     ]
    }
   ],
   "source": [
    "# run the motion sensor\n",
    "!dq stop motionsensor motion-test || true\n",
    "!dq run motionsensor motion-test"
   ]
  },
  {
   "cell_type": "code",
   "execution_count": 27,
   "metadata": {},
   "outputs": [
    {
     "name": "stdout",
     "output_type": "stream",
     "text": [
      "apiVersion: mock.digi.dev/v1\r\n",
      "kind: MotionSensor\r\n",
      "metadata:\r\n",
      "  name: motion-test\r\n",
      "  namespace: default\r\n",
      "spec:\r\n",
      "  control:\r\n",
      "    sensitivity:\r\n",
      "      intent: 1\r\n",
      "      status: 1\r\n",
      "  obs:\r\n",
      "    battery_level: 100%\r\n"
     ]
    }
   ],
   "source": [
    "!kubectl get motionsensor motion-test -oyaml | kubectl neat"
   ]
  },
  {
   "cell_type": "code",
   "execution_count": 28,
   "metadata": {},
   "outputs": [
    {
     "name": "stdout",
     "output_type": "stream",
     "text": [
      "motionsensor.mock.digi.dev/motion-test patched\r\n"
     ]
    }
   ],
   "source": [
    "# update its sensitivity\n",
    "!kubectl patch motionsensor motion-test -p '{\"spec\":{\"control\":{\"sensitivity\":{\"intent\":10}}}}' --type=merge"
   ]
  },
  {
   "cell_type": "code",
   "execution_count": 29,
   "metadata": {},
   "outputs": [
    {
     "name": "stdout",
     "output_type": "stream",
     "text": [
      "apiVersion: mock.digi.dev/v1\r\n",
      "kind: MotionSensor\r\n",
      "metadata:\r\n",
      "  name: motion-test\r\n",
      "  namespace: default\r\n",
      "spec:\r\n",
      "  control:\r\n",
      "    sensitivity:\r\n",
      "      intent: 10\r\n",
      "      status: 10\r\n",
      "  obs:\r\n",
      "    battery_level: 100%\r\n",
      "    last_triggered_time: 1.6187739951085074e+09\r\n"
     ]
    }
   ],
   "source": [
    "!kubectl get motionsensor motion-test -oyaml | kubectl neat"
   ]
  },
  {
   "cell_type": "markdown",
   "metadata": {},
   "source": [
    "## Modify Room"
   ]
  },
  {
   "cell_type": "code",
   "execution_count": 30,
   "metadata": {},
   "outputs": [],
   "source": [
    "# Update the Room's schema s.t. it can mount the motionsensor\n",
    "# TBD"
   ]
  },
  {
   "cell_type": "markdown",
   "metadata": {},
   "source": [
    "## Mount a motionsensor"
   ]
  },
  {
   "cell_type": "code",
   "execution_count": null,
   "metadata": {},
   "outputs": [],
   "source": [
    "!dq mount mostionsensor-test room-test"
   ]
  },
  {
   "cell_type": "markdown",
   "metadata": {},
   "source": [
    "## Add Reflex\n",
    "\n",
    "A reflex is an on-model policy that can be declared on the model to XYZ"
   ]
  },
  {
   "cell_type": "code",
   "execution_count": null,
   "metadata": {},
   "outputs": [],
   "source": [
    "# specify model\n",
    "m = model_file(\"room\")"
   ]
  },
  {
   "cell_type": "code",
   "execution_count": null,
   "metadata": {},
   "outputs": [],
   "source": [
    "%%elapsed_time\n",
    "%%writefile $f\n",
    "\n",
    "apiVersion: digi.dev/v1\n",
    "kind: Room\n",
    "metadata:\n",
    "  name: room-test\n",
    "spec:\n",
    "  control:\n",
    "    brightness:\n",
    "      intent: 0.8\n",
    "    mode:\n",
    "      intent: idle\n",
    "  reflex:\n",
    "    motion-mode:\n",
    "      policy: 'if $time - .\"motionsensor-test\".obs.last_triggered_time <= 600\n",
    "                           then .root.control.mode.intent = \"work\" else . end'\n",
    "      priority: -1\n",
    "      processor: jq"
   ]
  },
  {
   "cell_type": "markdown",
   "metadata": {},
   "source": [
    "## Connect to real motion detectors"
   ]
  },
  {
   "cell_type": "markdown",
   "metadata": {},
   "source": [
    "..."
   ]
  },
  {
   "cell_type": "markdown",
   "metadata": {},
   "source": [
    "# Home (Bonus)"
   ]
  },
  {
   "cell_type": "markdown",
   "metadata": {},
   "source": [
    "## Pull the base image"
   ]
  },
  {
   "cell_type": "code",
   "execution_count": null,
   "metadata": {},
   "outputs": [],
   "source": [
    "!dq pull home"
   ]
  },
  {
   "cell_type": "markdown",
   "metadata": {},
   "source": [
    "## Modify the Home driver\n",
    "\n",
    "Goal: Home have a \"mode\" control attribute that allows one to tune it to predefined modes. Each mode decides the brightness of the Rooms that mounted to the Home."
   ]
  },
  {
   "cell_type": "code",
   "execution_count": null,
   "metadata": {},
   "outputs": [],
   "source": [
    "f = handler_file(\"home\")"
   ]
  },
  {
   "cell_type": "code",
   "execution_count": null,
   "metadata": {},
   "outputs": [],
   "source": [
    "%%elapsed_time\n",
    "%%writefile $f\n",
    "\n",
    "# TBD\n",
    "import digi\n",
    "import digi.on as on\n",
    "\n",
    "# validation\n",
    "@on.attr\n",
    "def h():\n",
    "    ...\n",
    "\n",
    "# intent back-prop\n",
    "@on.mount\n",
    "def h():\n",
    "    ...\n",
    "\n",
    "# status\n",
    "@on.mount\n",
    "def h():\n",
    "    ...\n",
    "\n",
    "# intent\n",
    "@on.mount\n",
    "@on.control\n",
    "def h():\n",
    "    ..."
   ]
  },
  {
   "cell_type": "code",
   "execution_count": null,
   "metadata": {},
   "outputs": [],
   "source": [
    "# build and run\n",
    "!dq build home -q\n",
    "!dq stop home home-test || true\n",
    "!dq run home home-test"
   ]
  },
  {
   "cell_type": "markdown",
   "metadata": {},
   "source": [
    "## Mount rooms"
   ]
  },
  {
   "cell_type": "code",
   "execution_count": null,
   "metadata": {},
   "outputs": [],
   "source": [
    "!dq mount room-test home-test"
   ]
  },
  {
   "cell_type": "code",
   "execution_count": null,
   "metadata": {},
   "outputs": [],
   "source": [
    "# set the modes\n",
    "!kubectl patch home home-test -p '{\"spec\":{\"control\":{\"mode\":{\"intent\":YOURMODE}}}}' --type=merge"
   ]
  }
 ],
 "metadata": {
  "kernelspec": {
   "display_name": "Python 3",
   "language": "python",
   "name": "python3"
  },
  "language_info": {
   "codemirror_mode": {
    "name": "ipython",
    "version": 3
   },
   "file_extension": ".py",
   "mimetype": "text/x-python",
   "name": "python",
   "nbconvert_exporter": "python",
   "pygments_lexer": "ipython3",
   "version": "3.8.2"
  }
 },
 "nbformat": 4,
 "nbformat_minor": 4
}
